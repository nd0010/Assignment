{
  "nbformat": 4,
  "nbformat_minor": 0,
  "metadata": {
    "colab": {
      "provenance": [],
      "authorship_tag": "ABX9TyO9d6L3ZB/54/P6HDPA6Vxd",
      "include_colab_link": true
    },
    "kernelspec": {
      "name": "python3",
      "display_name": "Python 3"
    },
    "language_info": {
      "name": "python"
    }
  },
  "cells": [
    {
      "cell_type": "markdown",
      "metadata": {
        "id": "view-in-github",
        "colab_type": "text"
      },
      "source": [
        "<a href=\"https://colab.research.google.com/github/nd0010/Assignment/blob/main/Assignment_1.ipynb\" target=\"_parent\"><img src=\"https://colab.research.google.com/assets/colab-badge.svg\" alt=\"Open In Colab\"/></a>"
      ]
    },
    {
      "cell_type": "code",
      "execution_count": 2,
      "metadata": {
        "colab": {
          "base_uri": "https://localhost:8080/"
        },
        "id": "J3m6rBK697q4",
        "outputId": "bbe8d0b1-684b-4b04-e560-b0cb7e8feeba"
      },
      "outputs": [
        {
          "output_type": "stream",
          "name": "stdout",
          "text": [
            "\u001b[2K     \u001b[90m━━━━━━━━━━━━━━━━━━━━━━━━━━━━━━━━━━━━━━━━\u001b[0m \u001b[32m52.0/52.0 kB\u001b[0m \u001b[31m1.6 MB/s\u001b[0m eta \u001b[36m0:00:00\u001b[0m\n",
            "\u001b[2K     \u001b[90m━━━━━━━━━━━━━━━━━━━━━━━━━━━━━━━━━━━━━━━━\u001b[0m \u001b[32m3.1/3.1 MB\u001b[0m \u001b[31m27.9 MB/s\u001b[0m eta \u001b[36m0:00:00\u001b[0m\n",
            "\u001b[?25h"
          ]
        }
      ],
      "source": [
        "! pip install --quiet cohere"
      ]
    },
    {
      "cell_type": "code",
      "source": [
        "!pip install --quiet qdrant-client python-dotenv langchain"
      ],
      "metadata": {
        "colab": {
          "base_uri": "https://localhost:8080/"
        },
        "id": "wpi7W_It-7vO",
        "outputId": "1156032d-b277-467e-aee5-e1372b81f147"
      },
      "execution_count": 3,
      "outputs": [
        {
          "output_type": "stream",
          "name": "stdout",
          "text": [
            "\u001b[2K     \u001b[90m━━━━━━━━━━━━━━━━━━━━━━━━━━━━━━━━━━━━━━━━\u001b[0m \u001b[32m206.3/206.3 kB\u001b[0m \u001b[31m4.1 MB/s\u001b[0m eta \u001b[36m0:00:00\u001b[0m\n",
            "\u001b[2K     \u001b[90m━━━━━━━━━━━━━━━━━━━━━━━━━━━━━━━━━━━━━━━━\u001b[0m \u001b[32m817.0/817.0 kB\u001b[0m \u001b[31m9.5 MB/s\u001b[0m eta \u001b[36m0:00:00\u001b[0m\n",
            "\u001b[2K     \u001b[90m━━━━━━━━━━━━━━━━━━━━━━━━━━━━━━━━━━━━━━━━\u001b[0m \u001b[32m2.8/2.8 MB\u001b[0m \u001b[31m14.3 MB/s\u001b[0m eta \u001b[36m0:00:00\u001b[0m\n",
            "\u001b[2K     \u001b[90m━━━━━━━━━━━━━━━━━━━━━━━━━━━━━━━━━━━━━━━━\u001b[0m \u001b[32m75.6/75.6 kB\u001b[0m \u001b[31m8.6 MB/s\u001b[0m eta \u001b[36m0:00:00\u001b[0m\n",
            "\u001b[2K     \u001b[90m━━━━━━━━━━━━━━━━━━━━━━━━━━━━━━━━━━━━━━━━\u001b[0m \u001b[32m1.7/1.7 MB\u001b[0m \u001b[31m20.1 MB/s\u001b[0m eta \u001b[36m0:00:00\u001b[0m\n",
            "\u001b[2K     \u001b[90m━━━━━━━━━━━━━━━━━━━━━━━━━━━━━━━━━━━━━━━━\u001b[0m \u001b[32m250.8/250.8 kB\u001b[0m \u001b[31m16.2 MB/s\u001b[0m eta \u001b[36m0:00:00\u001b[0m\n",
            "\u001b[2K     \u001b[90m━━━━━━━━━━━━━━━━━━━━━━━━━━━━━━━━━━━━━━━━\u001b[0m \u001b[32m63.1/63.1 kB\u001b[0m \u001b[31m3.3 MB/s\u001b[0m eta \u001b[36m0:00:00\u001b[0m\n",
            "\u001b[2K     \u001b[90m━━━━━━━━━━━━━━━━━━━━━━━━━━━━━━━━━━━━━━━━\u001b[0m \u001b[32m49.4/49.4 kB\u001b[0m \u001b[31m5.0 MB/s\u001b[0m eta \u001b[36m0:00:00\u001b[0m\n",
            "\u001b[2K     \u001b[90m━━━━━━━━━━━━━━━━━━━━━━━━━━━━━━━━━━━━━━━━\u001b[0m \u001b[32m294.6/294.6 kB\u001b[0m \u001b[31m20.5 MB/s\u001b[0m eta \u001b[36m0:00:00\u001b[0m\n",
            "\u001b[2K     \u001b[90m━━━━━━━━━━━━━━━━━━━━━━━━━━━━━━━━━━━━━━━━\u001b[0m \u001b[32m5.5/5.5 MB\u001b[0m \u001b[31m26.6 MB/s\u001b[0m eta \u001b[36m0:00:00\u001b[0m\n",
            "\u001b[2K     \u001b[90m━━━━━━━━━━━━━━━━━━━━━━━━━━━━━━━━━━━━━━━━\u001b[0m \u001b[32m77.8/77.8 kB\u001b[0m \u001b[31m7.2 MB/s\u001b[0m eta \u001b[36m0:00:00\u001b[0m\n",
            "\u001b[2K     \u001b[90m━━━━━━━━━━━━━━━━━━━━━━━━━━━━━━━━━━━━━━━━\u001b[0m \u001b[32m57.5/57.5 kB\u001b[0m \u001b[31m2.1 MB/s\u001b[0m eta \u001b[36m0:00:00\u001b[0m\n",
            "\u001b[2K     \u001b[90m━━━━━━━━━━━━━━━━━━━━━━━━━━━━━━━━━━━━━━━━\u001b[0m \u001b[32m58.3/58.3 kB\u001b[0m \u001b[31m6.1 MB/s\u001b[0m eta \u001b[36m0:00:00\u001b[0m\n",
            "\u001b[2K     \u001b[90m━━━━━━━━━━━━━━━━━━━━━━━━━━━━━━━━━━━━━━━━\u001b[0m \u001b[32m138.5/138.5 kB\u001b[0m \u001b[31m14.5 MB/s\u001b[0m eta \u001b[36m0:00:00\u001b[0m\n",
            "\u001b[?25h\u001b[31mERROR: pip's dependency resolver does not currently take into account all the packages that are installed. This behaviour is the source of the following dependency conflicts.\n",
            "tensorflow-metadata 1.14.0 requires protobuf<4.21,>=3.20.3, but you have protobuf 4.25.3 which is incompatible.\u001b[0m\u001b[31m\n",
            "\u001b[0m"
          ]
        }
      ]
    },
    {
      "cell_type": "code",
      "source": [
        "pip install --quiet wikipedia"
      ],
      "metadata": {
        "colab": {
          "base_uri": "https://localhost:8080/"
        },
        "id": "lkhntLYKBkj7",
        "outputId": "9e640e7a-2556-4b0e-b901-d2b61d7984b7"
      },
      "execution_count": 4,
      "outputs": [
        {
          "output_type": "stream",
          "name": "stdout",
          "text": [
            "  Preparing metadata (setup.py) ... \u001b[?25l\u001b[?25hdone\n",
            "  Building wheel for wikipedia (setup.py) ... \u001b[?25l\u001b[?25hdone\n"
          ]
        }
      ]
    },
    {
      "cell_type": "code",
      "source": [
        "import cohere\n",
        "import pandas as pd\n",
        "import numpy as np\n",
        "import altair as alt\n",
        "import textwrap as tr\n",
        "import random\n",
        "import dotenv\n",
        "import os\n",
        "\n",
        "dotenv.load_dotenv(\".env\")"
      ],
      "metadata": {
        "colab": {
          "base_uri": "https://localhost:8080/"
        },
        "id": "-ZrORBAH_OFo",
        "outputId": "dfb53dd2-3cc4-4b18-c2f7-509e3916aa68"
      },
      "execution_count": 5,
      "outputs": [
        {
          "output_type": "execute_result",
          "data": {
            "text/plain": [
              "True"
            ]
          },
          "metadata": {},
          "execution_count": 5
        }
      ]
    },
    {
      "cell_type": "code",
      "source": [
        "from langchain.embeddings.cohere import CohereEmbeddings\n",
        "from langchain.llms import Cohere\n",
        "from langchain.prompts import PromptTemplate\n",
        "from langchain.text_splitter import RecursiveCharacterTextSplitter\n",
        "from langchain.chains.question_answering import load_qa_chain\n",
        "from langchain.chains import RetrievalQA\n",
        "from langchain.vectorstores import Qdrant\n",
        "from langchain.document_loaders import TextLoader\n",
        "from langchain.retrievers import WikipediaRetriever"
      ],
      "metadata": {
        "id": "35uSGtwL_ahC"
      },
      "execution_count": 6,
      "outputs": []
    },
    {
      "cell_type": "code",
      "source": [
        "retriever = WikipediaRetriever()\n",
        "\n",
        "docs = retriever.get_relevant_documents(\"Pizza\")\n",
        "\n",
        "pizza_doc = docs[0].page_content\n",
        "\n",
        "#print (pizza_doc)\n",
        "\n",
        "pizza_doc_split = pizza_doc.split(\"\\n\\n\",3)\n",
        "print(pizza_doc_split)\n",
        "\n",
        "text_splitter = RecursiveCharacterTextSplitter(\n",
        "    chunk_size=100,\n",
        "    chunk_overlap=20,\n",
        "    length_function=len,\n",
        "    is_separator_regex=False,\n",
        ")\n",
        "\n",
        "#pizza_text_split = text_splitter.create_documents(pizza_doc)\n",
        "#print (pizza_text_split[0])\n",
        "#print (pizza_text_split[1])\n",
        "\n",
        "pizza_text_split = text_splitter.split_text(pizza_doc)\n",
        "print (pizza_text_split)\n"
      ],
      "metadata": {
        "colab": {
          "base_uri": "https://localhost:8080/"
        },
        "id": "vRvGnvRf_cVZ",
        "outputId": "6b62c79f-2a8e-4166-8478-03308f5e3a01"
      },
      "execution_count": 7,
      "outputs": [
        {
          "output_type": "stream",
          "name": "stdout",
          "text": [
            "[\"Pizza ( PEET-sə, Italian: [ˈpittsa]; Neapolitan: [ˈpittsə]) is a dish of Italian origin consisting of a usually round, flat base of leavened wheat-based dough topped with tomatoes, cheese, and often various other ingredients (such as anchovies, mushrooms, onions, olives, vegetables, meat, etc.), which is then baked at a high temperature, traditionally in a wood-fired oven.The term pizza was first recorded in the year 997, in a Latin manuscript from the southern Italian town of Gaeta, in Lazio, on the border with Campania. Raffaele Esposito is often credited for creating modern pizza in Naples. In 2009, Neapolitan pizza was registered with the European Union as a traditional speciality guaranteed dish. In 2017, the art of making Neapolitan pizza was added to UNESCO's list of intangible cultural heritage.Pizza and its variants are among the most popular foods in the world. Pizza is sold at a variety of restaurants, including pizzerias (pizza specialty restaurants), Mediterranean restaurants, via delivery, and as street food. In Italy, pizza served in a restaurant is presented unsliced, and is eaten with the use of a knife and fork. In casual settings, however, it is typically cut into slices to be eaten while held in the hand. Pizza is also sold in grocery stores in a variety of forms, including frozen or as kits for self-assembly. They are then cooked using a home oven.\\nIn 2017, the world pizza market was US$128 billion, and in the US it was $44 billion spread over 76,000 pizzerias. Overall, 13% of the U.S. population aged two years and over consumed pizza on any given day.\", \"\\n== Etymology ==\\nThe oldest recorded usage of the word pizza is from a Latin text from the town of Gaeta, then still part of the Byzantine Empire, in 997 AD; the text states that a tenant of certain property is to give the bishop of Gaeta duodecim pizze (lit.\\u2009'twelve pizzas') every Christmas Day, and another twelve every Easter Sunday.Suggested etymologies include:\", 'Byzantine Greek and Late Latin pitta > pizza, cf. Modern Greek pitta bread and the Apulia and Calabrian (then Byzantine Italy) pitta, a round flat bread baked in the oven at high temperature sometimes with toppings. The word pitta can in turn be traced to either Ancient Greek πικτή (pikte), \\'fermented pastry\\', which in Latin became picta, or Ancient Greek πίσσα (pissa, Attic: πίττα, pitta), \\'pitch\\', or πήτεα (pḗtea), \\'bran\\' (πητίτης, pētítēs, \\'bran bread\\').\\nThe Etymological Dictionary of the Italian Language explains it as coming from dialectal pinza, \\'clamp\\', as in modern Italian pinze, \\'pliers, pincers, tongs, forceps\\'. Their origin is from Latin pinsere, \\'to pound, stamp\\'.\\nThe Lombardic word bizzo or pizzo meaning \\'mouthful\\' (related to the English words \"bit\" and \"bite\"), which was brought to Italy in the middle of the 6th century AD by the invading Lombards. The shift b>p could be explained by the High German consonant shift, and it has been noted in this connection that in German the word Imbiss means \\'snack\\'.A small pizza is sometimes called a pizzetta. A person who makes pizza is known as a pizzaiolo.The word pizza was borrowed from Italian into English in the 1930s; before it became well known, pizza was called \"tomato pie\" by English speakers. Some regional pizza variations still use the name tomato pie.', '\\n== History ==\\n\\nRecords of pizza-like foods can be found throughout ancient history. In the 6th century BC, the Persian soldiers of the Achaemenid Empire during the rule of Darius the Great baked flatbreads with cheese and dates on top of their battle shields and the ancient Greeks supplemented their bread with oils, herbs, and cheese. An early reference to a pizza-like food occurs in the Aeneid, when Celaeno, queen of the Harpies, foretells that the Trojans would not find peace until they are forced by hunger to eat their tables (Book III). In Book VII, Aeneas and his men are served a meal that includes round cakes (like pita bread) topped with cooked vegetables. When they eat the br']\n",
            "['Pizza ( PEET-sə, Italian: [ˈpittsa]; Neapolitan: [ˈpittsə]) is a dish of Italian origin consisting', 'origin consisting of a usually round, flat base of leavened wheat-based dough topped with tomatoes,', 'with tomatoes, cheese, and often various other ingredients (such as anchovies, mushrooms, onions,', 'mushrooms, onions, olives, vegetables, meat, etc.), which is then baked at a high temperature,', 'a high temperature, traditionally in a wood-fired oven.The term pizza was first recorded in the', 'recorded in the year 997, in a Latin manuscript from the southern Italian town of Gaeta, in Lazio,', 'of Gaeta, in Lazio, on the border with Campania. Raffaele Esposito is often credited for creating', 'for creating modern pizza in Naples. In 2009, Neapolitan pizza was registered with the European', 'with the European Union as a traditional speciality guaranteed dish. In 2017, the art of making', \"the art of making Neapolitan pizza was added to UNESCO's list of intangible cultural heritage.Pizza\", 'heritage.Pizza and its variants are among the most popular foods in the world. Pizza is sold at a', 'Pizza is sold at a variety of restaurants, including pizzerias (pizza specialty restaurants),', 'restaurants), Mediterranean restaurants, via delivery, and as street food. In Italy, pizza served', 'Italy, pizza served in a restaurant is presented unsliced, and is eaten with the use of a knife and', 'use of a knife and fork. In casual settings, however, it is typically cut into slices to be eaten', 'slices to be eaten while held in the hand. Pizza is also sold in grocery stores in a variety of', 'in a variety of forms, including frozen or as kits for self-assembly. They are then cooked using a', 'then cooked using a home oven.', 'In 2017, the world pizza market was US$128 billion, and in the US it was $44 billion spread over', 'billion spread over 76,000 pizzerias. Overall, 13% of the U.S. population aged two years and over', 'two years and over consumed pizza on any given day.', '== Etymology ==', 'The oldest recorded usage of the word pizza is from a Latin text from the town of Gaeta, then still', 'Gaeta, then still part of the Byzantine Empire, in 997 AD; the text states that a tenant of certain', \"a tenant of certain property is to give the bishop of Gaeta duodecim pizze (lit.\\u2009'twelve pizzas')\", \"pizzas') every Christmas Day, and another twelve every Easter Sunday.Suggested etymologies include:\", 'Byzantine Greek and Late Latin pitta > pizza, cf. Modern Greek pitta bread and the Apulia and', 'and the Apulia and Calabrian (then Byzantine Italy) pitta, a round flat bread baked in the oven at', 'in the oven at high temperature sometimes with toppings. The word pitta can in turn be traced to', \"turn be traced to either Ancient Greek πικτή (pikte), 'fermented pastry', which in Latin became\", \"in Latin became picta, or Ancient Greek πίσσα (pissa, Attic: πίττα, pitta), 'pitch', or πήτεα\", \"'pitch', or πήτεα (pḗtea), 'bran' (πητίτης, pētítēs, 'bran bread').\", 'The Etymological Dictionary of the Italian Language explains it as coming from dialectal pinza,', \"dialectal pinza, 'clamp', as in modern Italian pinze, 'pliers, pincers, tongs, forceps'. Their\", \"forceps'. Their origin is from Latin pinsere, 'to pound, stamp'.\", 'The Lombardic word bizzo or pizzo meaning \\'mouthful\\' (related to the English words \"bit\" and', 'words \"bit\" and \"bite\"), which was brought to Italy in the middle of the 6th century AD by the', 'century AD by the invading Lombards. The shift b>p could be explained by the High German consonant', 'German consonant shift, and it has been noted in this connection that in German the word Imbiss', \"the word Imbiss means 'snack'.A small pizza is sometimes called a pizzetta. A person who makes\", 'A person who makes pizza is known as a pizzaiolo.The word pizza was borrowed from Italian into', 'from Italian into English in the 1930s; before it became well known, pizza was called \"tomato pie\"', 'called \"tomato pie\" by English speakers. Some regional pizza variations still use the name tomato', 'use the name tomato pie.', '== History ==', 'Records of pizza-like foods can be found throughout ancient history. In the 6th century BC, the', '6th century BC, the Persian soldiers of the Achaemenid Empire during the rule of Darius the Great', 'of Darius the Great baked flatbreads with cheese and dates on top of their battle shields and the', 'shields and the ancient Greeks supplemented their bread with oils, herbs, and cheese. An early', 'cheese. An early reference to a pizza-like food occurs in the Aeneid, when Celaeno, queen of the', 'queen of the Harpies, foretells that the Trojans would not find peace until they are forced by', 'they are forced by hunger to eat their tables (Book III). In Book VII, Aeneas and his men are', 'and his men are served a meal that includes round cakes (like pita bread) topped with cooked', 'topped with cooked vegetables. When they eat the br']\n"
          ]
        }
      ]
    },
    {
      "cell_type": "code",
      "source": [
        "model = \"multilingual-22-12\"\n",
        "embeddings = CohereEmbeddings (model = \"multilingual-22-12\")\n",
        "\n",
        "db = Qdrant.from_texts(pizza_text_split, embeddings, location =\":memory:\", collection_name=\"my_documents\", distance_func=\"Dot\")"
      ],
      "metadata": {
        "id": "5AFFTqi25KTI"
      },
      "execution_count": 8,
      "outputs": []
    },
    {
      "cell_type": "code",
      "source": [
        "queries = [\"What is Pizza\",\n",
        "           \"What are the ingredients in a Pizza\",\n",
        "           \"Does Pizza come in square sizes\",\n",
        "           \"When was Pizza invented\"]"
      ],
      "metadata": {
        "id": "PhW9bu-VG0zS"
      },
      "execution_count": 9,
      "outputs": []
    },
    {
      "cell_type": "code",
      "source": [
        "answers = []\n",
        "\n",
        "for query in queries :\n",
        "  docs = db.similarity_search(query)\n",
        "  answers.append(docs[0].page_content)\n",
        "\n",
        "answers"
      ],
      "metadata": {
        "colab": {
          "base_uri": "https://localhost:8080/"
        },
        "id": "kEJuI8QxHHv2",
        "outputId": "1a0ede09-19e8-44b2-f638-40f54ec1edb0"
      },
      "execution_count": 10,
      "outputs": [
        {
          "output_type": "execute_result",
          "data": {
            "text/plain": [
              "['Pizza ( PEET-sə, Italian: [ˈpittsa]; Neapolitan: [ˈpittsə]) is a dish of Italian origin consisting',\n",
              " 'Pizza ( PEET-sə, Italian: [ˈpittsa]; Neapolitan: [ˈpittsə]) is a dish of Italian origin consisting',\n",
              " 'Pizza is sold at a variety of restaurants, including pizzerias (pizza specialty restaurants),',\n",
              " 'a high temperature, traditionally in a wood-fired oven.The term pizza was first recorded in the']"
            ]
          },
          "metadata": {},
          "execution_count": 10
        }
      ]
    }
  ]
}